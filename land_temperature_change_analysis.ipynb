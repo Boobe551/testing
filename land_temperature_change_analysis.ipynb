{
 "cells": [
  {
   "cell_type": "markdown",
   "id": "0281e5a7",
   "metadata": {},
   "source": [
    "# Investigating Temperature Change on Land in relation to Climate Change"
   ]
  },
  {
   "cell_type": "markdown",
   "id": "c0eb4faf-4e6a-4cf6-b4ab-6198d1c37d78",
   "metadata": {},
   "source": [
    "## Introduction\n",
    "\n",
    "Over the years, both [natural and anthropogenic influences](https://www.epa.gov/climatechange-science/causes-climate-change#:~:text=Human%20and%20natural%20factors%20both,observed%20over%20the%20last%20century.) have contributed to major changes in the Earth's climate. The increase in [land surface temperatures](https://earthobservatory.nasa.gov/global-maps/MOD_NDVI_M/MOD_LSTD_M#:~:text=Land%20surface%20temperature%20is%20a,cools%20more%20quickly%20than%20air.), a major sign of [global warming](https://www.nrdc.org/stories/global-warming-101#causes), is among the most alarming occurrences associated with these changes. In addition to demonstrating the magnitude of climate change, land temperature change offers information about wider implications for [ecosystems](https://australian.museum/learn/species-identification/ask-an-expert/what-is-an-ecosystem/#:~:text=An%20ecosystem%20is%20a%20community%20of%20organisms%20and%20their%20physical,nutrient%20cycles%20and%20energy%20flows.), [biodiversity](https://www.worldwildlife.org/pages/what-is-biodiversity#:~:text=Biodiversity%20is%20all%20the%20different,maintain%20balance%20and%20support%20life.), and human societies. These changes, which range from greater seasonal temperature variability to previously unheard-of peaks in recorded values, are a reflection of the growing effects of human activities including [industrialization](https://en.wikipedia.org/wiki/Industrialisation), [deforestation](https://education.nationalgeographic.org/resource/deforestation/), and [greenhouse gas emissions](https://www.ibm.com/think/topics/greenhouse-gas-emissions#:~:text=The%20release%20of%20certain%20gases,trap%20heat%20within%20our%20atmosphere.).\n",
    "\n",
    "In Nigeria and around the world, the consequences of escalating temperatures are becoming ever more evident. The degradation of forests, the proliferation of urban landscapes, and the increasing dependence on [fossil fuels](https://en.wikipedia.org/wiki/Fossil_fuel) have collectively fostered a warming trend that jeopardizes the equilibrium of both natural ecosystems and human societies.\n",
    "\n",
    "This study explores the trends in land temperature change over time, emphasizing how it relates to climate change and the impact of global climate events and policy. By examining decades' worth of temperature data, we hope to identify the patterns, fluctuations, and key milestones that characterize the current climate catastrophe and highlight how urgently meaningful action is needed to reduce its effects.\n"
   ]
  },
  {
   "cell_type": "markdown",
   "id": "082e44b5",
   "metadata": {},
   "source": [
    "## Data Source\n",
    "\n",
    "[FAOSTAT](https://www.fao.org/land-water/land/land-governance/land-resources-planning-toolbox/category/details/en/c/1029516/#:~:text=FAOSTAT%20is%20FAO's%20global%20statistical,the%20most%20recent%20year%20available.) is FAO’s global statistical database. It provides free access to food and agriculture data for over 245 countries and territories and covers all FAO regional groupings from 1961 to the most recent year available. \n",
    "\n",
    "The FAOSTAT Temperature change on land domain disseminates statistics of mean surface temperature change by country, with annual updates. The current dissemination covers the period 1961–2023. Statistics are available for monthly, seasonal and annual mean temperature anomalies, i.e., temperature change with respect to a baseline climatology, corresponding to the period 1951–1980. The standard deviation of the temperature change of the baseline methodology is also available. Data are based on the publicly available GISTEMP data, the Global Surface Temperature Change data distributed by the National Aeronautics and Space Administration Goddard Institute for Space Studies (NASA-GISS). For more information, click [here](https://data.giss.nasa.gov/gistemp/)"
   ]
  },
  {
   "cell_type": "code",
   "execution_count": null,
   "id": "6328d6f1-42e8-438d-8612-b6fdde6faf6b",
   "metadata": {},
   "outputs": [],
   "source": [
    "#Extracting the files from the zipfile\n",
    "import zipfile\n",
    "with zipfile.ZipFile('Temperature_Change_Data.zip', 'r') as myzip:\n",
    "    myzip.extractall()"
   ]
  },
  {
   "cell_type": "code",
   "execution_count": 1,
   "id": "e0006ce4",
   "metadata": {
    "execution": {
     "iopub.execute_input": "2025-01-09T07:43:18.106340Z",
     "iopub.status.busy": "2025-01-09T07:43:18.106037Z",
     "iopub.status.idle": "2025-01-09T07:43:19.361010Z",
     "shell.execute_reply": "2025-01-09T07:43:19.359966Z",
     "shell.execute_reply.started": "2025-01-09T07:43:18.106314Z"
    },
    "tags": []
   },
   "outputs": [],
   "source": [
    "#Importing the necessary libraries\n",
    "import pandas as pd\n",
    "import numpy as np \n",
    "import matplotlib.pyplot as plt\n",
    "import seaborn as sb"
   ]
  },
  {
   "cell_type": "code",
   "execution_count": 2,
   "id": "f147005e",
   "metadata": {
    "execution": {
     "iopub.execute_input": "2025-01-09T07:43:42.669635Z",
     "iopub.status.busy": "2025-01-09T07:43:42.669326Z",
     "iopub.status.idle": "2025-01-09T07:43:42.865153Z",
     "shell.execute_reply": "2025-01-09T07:43:42.863595Z",
     "shell.execute_reply.started": "2025-01-09T07:43:42.669612Z"
    },
    "tags": []
   },
   "outputs": [
    {
     "ename": "UnicodeDecodeError",
     "evalue": "'utf-8' codec can't decode byte 0xb0 in position 188: invalid start byte",
     "output_type": "error",
     "traceback": [
      "\u001b[0;31m---------------------------------------------------------------------------\u001b[0m",
      "\u001b[0;31mUnicodeDecodeError\u001b[0m                        Traceback (most recent call last)",
      "\u001b[0;32m<ipython-input-2-da6e61151204>\u001b[0m in \u001b[0;36m<cell line: 2>\u001b[0;34m()\u001b[0m\n\u001b[1;32m      1\u001b[0m \u001b[0;31m#Loading in the dataset\u001b[0m\u001b[0;34m\u001b[0m\u001b[0;34m\u001b[0m\u001b[0m\n\u001b[0;32m----> 2\u001b[0;31m \u001b[0mtemperature_change\u001b[0m \u001b[0;34m=\u001b[0m \u001b[0mpd\u001b[0m\u001b[0;34m.\u001b[0m\u001b[0mread_csv\u001b[0m\u001b[0;34m(\u001b[0m\u001b[0;34m'/kaggle/input/environment-temperature-change/Environment_Temperature_change_E_All_Data_(Normalized).csv'\u001b[0m\u001b[0;34m)\u001b[0m\u001b[0;34m\u001b[0m\u001b[0;34m\u001b[0m\u001b[0m\n\u001b[0m",
      "\u001b[0;32m/usr/local/lib/python3.10/dist-packages/pandas/io/parsers/readers.py\u001b[0m in \u001b[0;36mread_csv\u001b[0;34m(filepath_or_buffer, sep, delimiter, header, names, index_col, usecols, dtype, engine, converters, true_values, false_values, skipinitialspace, skiprows, skipfooter, nrows, na_values, keep_default_na, na_filter, verbose, skip_blank_lines, parse_dates, infer_datetime_format, keep_date_col, date_parser, date_format, dayfirst, cache_dates, iterator, chunksize, compression, thousands, decimal, lineterminator, quotechar, quoting, doublequote, escapechar, comment, encoding, encoding_errors, dialect, on_bad_lines, delim_whitespace, low_memory, memory_map, float_precision, storage_options, dtype_backend)\u001b[0m\n\u001b[1;32m    946\u001b[0m     \u001b[0mkwds\u001b[0m\u001b[0;34m.\u001b[0m\u001b[0mupdate\u001b[0m\u001b[0;34m(\u001b[0m\u001b[0mkwds_defaults\u001b[0m\u001b[0;34m)\u001b[0m\u001b[0;34m\u001b[0m\u001b[0;34m\u001b[0m\u001b[0m\n\u001b[1;32m    947\u001b[0m \u001b[0;34m\u001b[0m\u001b[0m\n\u001b[0;32m--> 948\u001b[0;31m     \u001b[0;32mreturn\u001b[0m \u001b[0m_read\u001b[0m\u001b[0;34m(\u001b[0m\u001b[0mfilepath_or_buffer\u001b[0m\u001b[0;34m,\u001b[0m \u001b[0mkwds\u001b[0m\u001b[0;34m)\u001b[0m\u001b[0;34m\u001b[0m\u001b[0;34m\u001b[0m\u001b[0m\n\u001b[0m\u001b[1;32m    949\u001b[0m \u001b[0;34m\u001b[0m\u001b[0m\n\u001b[1;32m    950\u001b[0m \u001b[0;34m\u001b[0m\u001b[0m\n",
      "\u001b[0;32m/usr/local/lib/python3.10/dist-packages/pandas/io/parsers/readers.py\u001b[0m in \u001b[0;36m_read\u001b[0;34m(filepath_or_buffer, kwds)\u001b[0m\n\u001b[1;32m    609\u001b[0m \u001b[0;34m\u001b[0m\u001b[0m\n\u001b[1;32m    610\u001b[0m     \u001b[0;31m# Create the parser.\u001b[0m\u001b[0;34m\u001b[0m\u001b[0;34m\u001b[0m\u001b[0m\n\u001b[0;32m--> 611\u001b[0;31m     \u001b[0mparser\u001b[0m \u001b[0;34m=\u001b[0m \u001b[0mTextFileReader\u001b[0m\u001b[0;34m(\u001b[0m\u001b[0mfilepath_or_buffer\u001b[0m\u001b[0;34m,\u001b[0m \u001b[0;34m**\u001b[0m\u001b[0mkwds\u001b[0m\u001b[0;34m)\u001b[0m\u001b[0;34m\u001b[0m\u001b[0;34m\u001b[0m\u001b[0m\n\u001b[0m\u001b[1;32m    612\u001b[0m \u001b[0;34m\u001b[0m\u001b[0m\n\u001b[1;32m    613\u001b[0m     \u001b[0;32mif\u001b[0m \u001b[0mchunksize\u001b[0m \u001b[0;32mor\u001b[0m \u001b[0miterator\u001b[0m\u001b[0;34m:\u001b[0m\u001b[0;34m\u001b[0m\u001b[0;34m\u001b[0m\u001b[0m\n",
      "\u001b[0;32m/usr/local/lib/python3.10/dist-packages/pandas/io/parsers/readers.py\u001b[0m in \u001b[0;36m__init__\u001b[0;34m(self, f, engine, **kwds)\u001b[0m\n\u001b[1;32m   1446\u001b[0m \u001b[0;34m\u001b[0m\u001b[0m\n\u001b[1;32m   1447\u001b[0m         \u001b[0mself\u001b[0m\u001b[0;34m.\u001b[0m\u001b[0mhandles\u001b[0m\u001b[0;34m:\u001b[0m \u001b[0mIOHandles\u001b[0m \u001b[0;34m|\u001b[0m \u001b[0;32mNone\u001b[0m \u001b[0;34m=\u001b[0m \u001b[0;32mNone\u001b[0m\u001b[0;34m\u001b[0m\u001b[0;34m\u001b[0m\u001b[0m\n\u001b[0;32m-> 1448\u001b[0;31m         \u001b[0mself\u001b[0m\u001b[0;34m.\u001b[0m\u001b[0m_engine\u001b[0m \u001b[0;34m=\u001b[0m \u001b[0mself\u001b[0m\u001b[0;34m.\u001b[0m\u001b[0m_make_engine\u001b[0m\u001b[0;34m(\u001b[0m\u001b[0mf\u001b[0m\u001b[0;34m,\u001b[0m \u001b[0mself\u001b[0m\u001b[0;34m.\u001b[0m\u001b[0mengine\u001b[0m\u001b[0;34m)\u001b[0m\u001b[0;34m\u001b[0m\u001b[0;34m\u001b[0m\u001b[0m\n\u001b[0m\u001b[1;32m   1449\u001b[0m \u001b[0;34m\u001b[0m\u001b[0m\n\u001b[1;32m   1450\u001b[0m     \u001b[0;32mdef\u001b[0m \u001b[0mclose\u001b[0m\u001b[0;34m(\u001b[0m\u001b[0mself\u001b[0m\u001b[0;34m)\u001b[0m \u001b[0;34m->\u001b[0m \u001b[0;32mNone\u001b[0m\u001b[0;34m:\u001b[0m\u001b[0;34m\u001b[0m\u001b[0;34m\u001b[0m\u001b[0m\n",
      "\u001b[0;32m/usr/local/lib/python3.10/dist-packages/pandas/io/parsers/readers.py\u001b[0m in \u001b[0;36m_make_engine\u001b[0;34m(self, f, engine)\u001b[0m\n\u001b[1;32m   1721\u001b[0m \u001b[0;34m\u001b[0m\u001b[0m\n\u001b[1;32m   1722\u001b[0m         \u001b[0;32mtry\u001b[0m\u001b[0;34m:\u001b[0m\u001b[0;34m\u001b[0m\u001b[0;34m\u001b[0m\u001b[0m\n\u001b[0;32m-> 1723\u001b[0;31m             \u001b[0;32mreturn\u001b[0m \u001b[0mmapping\u001b[0m\u001b[0;34m[\u001b[0m\u001b[0mengine\u001b[0m\u001b[0;34m]\u001b[0m\u001b[0;34m(\u001b[0m\u001b[0mf\u001b[0m\u001b[0;34m,\u001b[0m \u001b[0;34m**\u001b[0m\u001b[0mself\u001b[0m\u001b[0;34m.\u001b[0m\u001b[0moptions\u001b[0m\u001b[0;34m)\u001b[0m\u001b[0;34m\u001b[0m\u001b[0;34m\u001b[0m\u001b[0m\n\u001b[0m\u001b[1;32m   1724\u001b[0m         \u001b[0;32mexcept\u001b[0m \u001b[0mException\u001b[0m\u001b[0;34m:\u001b[0m\u001b[0;34m\u001b[0m\u001b[0;34m\u001b[0m\u001b[0m\n\u001b[1;32m   1725\u001b[0m             \u001b[0;32mif\u001b[0m \u001b[0mself\u001b[0m\u001b[0;34m.\u001b[0m\u001b[0mhandles\u001b[0m \u001b[0;32mis\u001b[0m \u001b[0;32mnot\u001b[0m \u001b[0;32mNone\u001b[0m\u001b[0;34m:\u001b[0m\u001b[0;34m\u001b[0m\u001b[0;34m\u001b[0m\u001b[0m\n",
      "\u001b[0;32m/usr/local/lib/python3.10/dist-packages/pandas/io/parsers/c_parser_wrapper.py\u001b[0m in \u001b[0;36m__init__\u001b[0;34m(self, src, **kwds)\u001b[0m\n\u001b[1;32m     91\u001b[0m             \u001b[0;31m# Fail here loudly instead of in cython after reading\u001b[0m\u001b[0;34m\u001b[0m\u001b[0;34m\u001b[0m\u001b[0m\n\u001b[1;32m     92\u001b[0m             \u001b[0mimport_optional_dependency\u001b[0m\u001b[0;34m(\u001b[0m\u001b[0;34m\"pyarrow\"\u001b[0m\u001b[0;34m)\u001b[0m\u001b[0;34m\u001b[0m\u001b[0;34m\u001b[0m\u001b[0m\n\u001b[0;32m---> 93\u001b[0;31m         \u001b[0mself\u001b[0m\u001b[0;34m.\u001b[0m\u001b[0m_reader\u001b[0m \u001b[0;34m=\u001b[0m \u001b[0mparsers\u001b[0m\u001b[0;34m.\u001b[0m\u001b[0mTextReader\u001b[0m\u001b[0;34m(\u001b[0m\u001b[0msrc\u001b[0m\u001b[0;34m,\u001b[0m \u001b[0;34m**\u001b[0m\u001b[0mkwds\u001b[0m\u001b[0;34m)\u001b[0m\u001b[0;34m\u001b[0m\u001b[0;34m\u001b[0m\u001b[0m\n\u001b[0m\u001b[1;32m     94\u001b[0m \u001b[0;34m\u001b[0m\u001b[0m\n\u001b[1;32m     95\u001b[0m         \u001b[0mself\u001b[0m\u001b[0;34m.\u001b[0m\u001b[0munnamed_cols\u001b[0m \u001b[0;34m=\u001b[0m \u001b[0mself\u001b[0m\u001b[0;34m.\u001b[0m\u001b[0m_reader\u001b[0m\u001b[0;34m.\u001b[0m\u001b[0munnamed_cols\u001b[0m\u001b[0;34m\u001b[0m\u001b[0;34m\u001b[0m\u001b[0m\n",
      "\u001b[0;32mparsers.pyx\u001b[0m in \u001b[0;36mpandas._libs.parsers.TextReader.__cinit__\u001b[0;34m()\u001b[0m\n",
      "\u001b[0;32mparsers.pyx\u001b[0m in \u001b[0;36mpandas._libs.parsers.TextReader._get_header\u001b[0;34m()\u001b[0m\n",
      "\u001b[0;32mparsers.pyx\u001b[0m in \u001b[0;36mpandas._libs.parsers.TextReader._tokenize_rows\u001b[0;34m()\u001b[0m\n",
      "\u001b[0;32mparsers.pyx\u001b[0m in \u001b[0;36mpandas._libs.parsers.TextReader._check_tokenize_status\u001b[0;34m()\u001b[0m\n",
      "\u001b[0;32mparsers.pyx\u001b[0m in \u001b[0;36mpandas._libs.parsers.raise_parser_error\u001b[0;34m()\u001b[0m\n",
      "\u001b[0;31mUnicodeDecodeError\u001b[0m: 'utf-8' codec can't decode byte 0xb0 in position 188: invalid start byte"
     ]
    }
   ],
   "source": [
    "#Loading in the dataset\n",
    "temperature_change = pd.read_csv('Environment_Temperature_change_E_All_Data_(Normalized).csv')"
   ]
  },
  {
   "cell_type": "markdown",
   "id": "f56e8750",
   "metadata": {},
   "source": [
    "**Due to the error above, the encoding of the \"Temperature Change\" Dataset needs to be investigated.**"
   ]
  },
  {
   "cell_type": "code",
   "execution_count": 4,
   "id": "71a2b775",
   "metadata": {
    "execution": {
     "iopub.execute_input": "2025-01-09T07:44:02.683440Z",
     "iopub.status.busy": "2025-01-09T07:44:02.683115Z",
     "iopub.status.idle": "2025-01-09T07:52:51.428897Z",
     "shell.execute_reply": "2025-01-09T07:52:51.427882Z",
     "shell.execute_reply.started": "2025-01-09T07:44:02.683417Z"
    },
    "tags": []
   },
   "outputs": [
    {
     "name": "stdout",
     "output_type": "stream",
     "text": [
      "{'encoding': 'Windows-1252', 'confidence': 0.73, 'language': ''}\n"
     ]
    }
   ],
   "source": [
    "#investigating the encoding of the dataset\n",
    "import chardet\n",
    "with open(\"Environment_Temperature_change_E_All_Data_(Normalized).csv\", \"rb\") as file:\n",
    "    output = chardet.detect(file.read())\n",
    "    print(output)"
   ]
  },
  {
   "cell_type": "code",
   "execution_count": 5,
   "id": "64a479a6-f957-4738-ba4e-b65bc3e41636",
   "metadata": {
    "execution": {
     "iopub.execute_input": "2025-01-09T08:11:58.604533Z",
     "iopub.status.busy": "2025-01-09T08:11:58.604203Z",
     "iopub.status.idle": "2025-01-09T08:11:59.643820Z",
     "shell.execute_reply": "2025-01-09T08:11:59.642933Z",
     "shell.execute_reply.started": "2025-01-09T08:11:58.604510Z"
    },
    "tags": []
   },
   "outputs": [],
   "source": [
    "#loading in the temperature dataset again\n",
    "temp_change = pd.read_csv('Environment_Temperature_change_E_All_Data_(Normalized).csv',\n",
    "                                 encoding = 'Windows-1252')"
   ]
  },
  {
   "cell_type": "markdown",
   "id": "e5c9f91d-f7a0-4a7e-b553-60c8ba1f4d3e",
   "metadata": {},
   "source": [
    "#### Viewing and Investigating the Datasets"
   ]
  },
  {
   "cell_type": "code",
   "execution_count": 6,
   "id": "e89ec59c-c1aa-46bd-ab3e-3b93705a42e9",
   "metadata": {
    "execution": {
     "iopub.execute_input": "2025-01-09T08:12:04.621910Z",
     "iopub.status.busy": "2025-01-09T08:12:04.621526Z",
     "iopub.status.idle": "2025-01-09T08:12:04.654133Z",
     "shell.execute_reply": "2025-01-09T08:12:04.653085Z",
     "shell.execute_reply.started": "2025-01-09T08:12:04.621880Z"
    },
    "tags": []
   },
   "outputs": [
    {
     "data": {
      "text/html": [
       "<div>\n",
       "<style scoped>\n",
       "    .dataframe tbody tr th:only-of-type {\n",
       "        vertical-align: middle;\n",
       "    }\n",
       "\n",
       "    .dataframe tbody tr th {\n",
       "        vertical-align: top;\n",
       "    }\n",
       "\n",
       "    .dataframe thead th {\n",
       "        text-align: right;\n",
       "    }\n",
       "</style>\n",
       "<table border=\"1\" class=\"dataframe\">\n",
       "  <thead>\n",
       "    <tr style=\"text-align: right;\">\n",
       "      <th></th>\n",
       "      <th>Area Code</th>\n",
       "      <th>Area Code (M49)</th>\n",
       "      <th>Area</th>\n",
       "      <th>Months Code</th>\n",
       "      <th>Months</th>\n",
       "      <th>Element Code</th>\n",
       "      <th>Element</th>\n",
       "      <th>Year Code</th>\n",
       "      <th>Year</th>\n",
       "      <th>Unit</th>\n",
       "      <th>Value</th>\n",
       "      <th>Flag</th>\n",
       "    </tr>\n",
       "  </thead>\n",
       "  <tbody>\n",
       "    <tr>\n",
       "      <th>0</th>\n",
       "      <td>2</td>\n",
       "      <td>'004</td>\n",
       "      <td>Afghanistan</td>\n",
       "      <td>7001</td>\n",
       "      <td>January</td>\n",
       "      <td>7271</td>\n",
       "      <td>Temperature change</td>\n",
       "      <td>1961</td>\n",
       "      <td>1961</td>\n",
       "      <td>°c</td>\n",
       "      <td>0.745</td>\n",
       "      <td>E</td>\n",
       "    </tr>\n",
       "    <tr>\n",
       "      <th>1</th>\n",
       "      <td>2</td>\n",
       "      <td>'004</td>\n",
       "      <td>Afghanistan</td>\n",
       "      <td>7001</td>\n",
       "      <td>January</td>\n",
       "      <td>7271</td>\n",
       "      <td>Temperature change</td>\n",
       "      <td>1962</td>\n",
       "      <td>1962</td>\n",
       "      <td>°c</td>\n",
       "      <td>0.015</td>\n",
       "      <td>E</td>\n",
       "    </tr>\n",
       "    <tr>\n",
       "      <th>2</th>\n",
       "      <td>2</td>\n",
       "      <td>'004</td>\n",
       "      <td>Afghanistan</td>\n",
       "      <td>7001</td>\n",
       "      <td>January</td>\n",
       "      <td>7271</td>\n",
       "      <td>Temperature change</td>\n",
       "      <td>1963</td>\n",
       "      <td>1963</td>\n",
       "      <td>°c</td>\n",
       "      <td>2.706</td>\n",
       "      <td>E</td>\n",
       "    </tr>\n",
       "    <tr>\n",
       "      <th>3</th>\n",
       "      <td>2</td>\n",
       "      <td>'004</td>\n",
       "      <td>Afghanistan</td>\n",
       "      <td>7001</td>\n",
       "      <td>January</td>\n",
       "      <td>7271</td>\n",
       "      <td>Temperature change</td>\n",
       "      <td>1964</td>\n",
       "      <td>1964</td>\n",
       "      <td>°c</td>\n",
       "      <td>-5.250</td>\n",
       "      <td>E</td>\n",
       "    </tr>\n",
       "    <tr>\n",
       "      <th>4</th>\n",
       "      <td>2</td>\n",
       "      <td>'004</td>\n",
       "      <td>Afghanistan</td>\n",
       "      <td>7001</td>\n",
       "      <td>January</td>\n",
       "      <td>7271</td>\n",
       "      <td>Temperature change</td>\n",
       "      <td>1965</td>\n",
       "      <td>1965</td>\n",
       "      <td>°c</td>\n",
       "      <td>1.854</td>\n",
       "      <td>E</td>\n",
       "    </tr>\n",
       "  </tbody>\n",
       "</table>\n",
       "</div>"
      ],
      "text/plain": [
       "   Area Code Area Code (M49)         Area  Months Code   Months  Element Code  \\\n",
       "0          2            '004  Afghanistan         7001  January          7271   \n",
       "1          2            '004  Afghanistan         7001  January          7271   \n",
       "2          2            '004  Afghanistan         7001  January          7271   \n",
       "3          2            '004  Afghanistan         7001  January          7271   \n",
       "4          2            '004  Afghanistan         7001  January          7271   \n",
       "\n",
       "              Element  Year Code  Year Unit  Value Flag  \n",
       "0  Temperature change       1961  1961   °c  0.745    E  \n",
       "1  Temperature change       1962  1962   °c  0.015    E  \n",
       "2  Temperature change       1963  1963   °c  2.706    E  \n",
       "3  Temperature change       1964  1964   °c -5.250    E  \n",
       "4  Temperature change       1965  1965   °c  1.854    E  "
      ]
     },
     "execution_count": 6,
     "metadata": {},
     "output_type": "execute_result"
    }
   ],
   "source": [
    "temp_change.head()"
   ]
  },
  {
   "cell_type": "code",
   "execution_count": 7,
   "id": "d27b64da",
   "metadata": {
    "execution": {
     "iopub.execute_input": "2025-01-09T08:12:18.003652Z",
     "iopub.status.busy": "2025-01-09T08:12:18.003294Z",
     "iopub.status.idle": "2025-01-09T08:12:18.192698Z",
     "shell.execute_reply": "2025-01-09T08:12:18.191599Z",
     "shell.execute_reply.started": "2025-01-09T08:12:18.003624Z"
    },
    "tags": []
   },
   "outputs": [
    {
     "name": "stdout",
     "output_type": "stream",
     "text": [
      "<class 'pandas.core.frame.DataFrame'>\n",
      "RangeIndex: 563040 entries, 0 to 563039\n",
      "Data columns (total 12 columns):\n",
      " #   Column           Non-Null Count   Dtype  \n",
      "---  ------           --------------   -----  \n",
      " 0   Area Code        563040 non-null  int64  \n",
      " 1   Area Code (M49)  563040 non-null  object \n",
      " 2   Area             563040 non-null  object \n",
      " 3   Months Code      563040 non-null  int64  \n",
      " 4   Months           563040 non-null  object \n",
      " 5   Element Code     563040 non-null  int64  \n",
      " 6   Element          563040 non-null  object \n",
      " 7   Year Code        563040 non-null  int64  \n",
      " 8   Year             563040 non-null  int64  \n",
      " 9   Unit             563040 non-null  object \n",
      " 10  Value            537452 non-null  float64\n",
      " 11  Flag             563040 non-null  object \n",
      "dtypes: float64(1), int64(5), object(6)\n",
      "memory usage: 51.5+ MB\n"
     ]
    }
   ],
   "source": [
    "temp_change.info()"
   ]
  },
  {
   "cell_type": "markdown",
   "id": "a65253fb",
   "metadata": {},
   "source": [
    "It can be seen that the `Value` column is the only variable with  missing data"
   ]
  },
  {
   "cell_type": "code",
   "execution_count": 8,
   "id": "6f9887a2",
   "metadata": {
    "execution": {
     "iopub.execute_input": "2025-01-09T08:12:19.265340Z",
     "iopub.status.busy": "2025-01-09T08:12:19.264918Z",
     "iopub.status.idle": "2025-01-09T08:12:19.380559Z",
     "shell.execute_reply": "2025-01-09T08:12:19.379489Z",
     "shell.execute_reply.started": "2025-01-09T08:12:19.265311Z"
    },
    "tags": []
   },
   "outputs": [
    {
     "data": {
      "text/html": [
       "<div>\n",
       "<style scoped>\n",
       "    .dataframe tbody tr th:only-of-type {\n",
       "        vertical-align: middle;\n",
       "    }\n",
       "\n",
       "    .dataframe tbody tr th {\n",
       "        vertical-align: top;\n",
       "    }\n",
       "\n",
       "    .dataframe thead th {\n",
       "        text-align: right;\n",
       "    }\n",
       "</style>\n",
       "<table border=\"1\" class=\"dataframe\">\n",
       "  <thead>\n",
       "    <tr style=\"text-align: right;\">\n",
       "      <th></th>\n",
       "      <th>Area Code</th>\n",
       "      <th>Months Code</th>\n",
       "      <th>Element Code</th>\n",
       "      <th>Year Code</th>\n",
       "      <th>Year</th>\n",
       "      <th>Value</th>\n",
       "    </tr>\n",
       "  </thead>\n",
       "  <tbody>\n",
       "    <tr>\n",
       "      <th>count</th>\n",
       "      <td>563040.000000</td>\n",
       "      <td>563040.000000</td>\n",
       "      <td>563040.00000</td>\n",
       "      <td>563040.000000</td>\n",
       "      <td>563040.000000</td>\n",
       "      <td>537452.000000</td>\n",
       "    </tr>\n",
       "    <tr>\n",
       "      <th>mean</th>\n",
       "      <td>874.326630</td>\n",
       "      <td>7009.882353</td>\n",
       "      <td>6674.50000</td>\n",
       "      <td>1992.712681</td>\n",
       "      <td>1992.712681</td>\n",
       "      <td>0.622356</td>\n",
       "    </tr>\n",
       "    <tr>\n",
       "      <th>std</th>\n",
       "      <td>1841.066052</td>\n",
       "      <td>6.037948</td>\n",
       "      <td>596.50053</td>\n",
       "      <td>18.174242</td>\n",
       "      <td>18.174242</td>\n",
       "      <td>0.819781</td>\n",
       "    </tr>\n",
       "    <tr>\n",
       "      <th>min</th>\n",
       "      <td>1.000000</td>\n",
       "      <td>7001.000000</td>\n",
       "      <td>6078.00000</td>\n",
       "      <td>1961.000000</td>\n",
       "      <td>1961.000000</td>\n",
       "      <td>-9.272000</td>\n",
       "    </tr>\n",
       "    <tr>\n",
       "      <th>25%</th>\n",
       "      <td>74.000000</td>\n",
       "      <td>7005.000000</td>\n",
       "      <td>6078.00000</td>\n",
       "      <td>1977.000000</td>\n",
       "      <td>1977.000000</td>\n",
       "      <td>0.274000</td>\n",
       "    </tr>\n",
       "    <tr>\n",
       "      <th>50%</th>\n",
       "      <td>150.000000</td>\n",
       "      <td>7009.000000</td>\n",
       "      <td>6674.50000</td>\n",
       "      <td>1993.000000</td>\n",
       "      <td>1993.000000</td>\n",
       "      <td>0.504000</td>\n",
       "    </tr>\n",
       "    <tr>\n",
       "      <th>75%</th>\n",
       "      <td>225.000000</td>\n",
       "      <td>7016.000000</td>\n",
       "      <td>7271.00000</td>\n",
       "      <td>2008.000000</td>\n",
       "      <td>2008.000000</td>\n",
       "      <td>0.962000</td>\n",
       "    </tr>\n",
       "    <tr>\n",
       "      <th>max</th>\n",
       "      <td>5873.000000</td>\n",
       "      <td>7020.000000</td>\n",
       "      <td>7271.00000</td>\n",
       "      <td>2023.000000</td>\n",
       "      <td>2023.000000</td>\n",
       "      <td>11.753000</td>\n",
       "    </tr>\n",
       "  </tbody>\n",
       "</table>\n",
       "</div>"
      ],
      "text/plain": [
       "           Area Code    Months Code  Element Code      Year Code  \\\n",
       "count  563040.000000  563040.000000  563040.00000  563040.000000   \n",
       "mean      874.326630    7009.882353    6674.50000    1992.712681   \n",
       "std      1841.066052       6.037948     596.50053      18.174242   \n",
       "min         1.000000    7001.000000    6078.00000    1961.000000   \n",
       "25%        74.000000    7005.000000    6078.00000    1977.000000   \n",
       "50%       150.000000    7009.000000    6674.50000    1993.000000   \n",
       "75%       225.000000    7016.000000    7271.00000    2008.000000   \n",
       "max      5873.000000    7020.000000    7271.00000    2023.000000   \n",
       "\n",
       "                Year          Value  \n",
       "count  563040.000000  537452.000000  \n",
       "mean     1992.712681       0.622356  \n",
       "std        18.174242       0.819781  \n",
       "min      1961.000000      -9.272000  \n",
       "25%      1977.000000       0.274000  \n",
       "50%      1993.000000       0.504000  \n",
       "75%      2008.000000       0.962000  \n",
       "max      2023.000000      11.753000  "
      ]
     },
     "execution_count": 8,
     "metadata": {},
     "output_type": "execute_result"
    }
   ],
   "source": [
    "temp_change.describe()"
   ]
  },
  {
   "cell_type": "code",
   "execution_count": 9,
   "id": "0bd97bae",
   "metadata": {
    "execution": {
     "iopub.execute_input": "2025-01-09T08:12:19.894253Z",
     "iopub.status.busy": "2025-01-09T08:12:19.893858Z",
     "iopub.status.idle": "2025-01-09T08:12:20.078999Z",
     "shell.execute_reply": "2025-01-09T08:12:20.077951Z",
     "shell.execute_reply.started": "2025-01-09T08:12:19.894221Z"
    },
    "tags": []
   },
   "outputs": [
    {
     "data": {
      "text/plain": [
       "Area Code           284\n",
       "Area Code (M49)     284\n",
       "Area                284\n",
       "Months Code          17\n",
       "Months               17\n",
       "Element Code          2\n",
       "Element               2\n",
       "Year Code            63\n",
       "Year                 63\n",
       "Unit                  1\n",
       "Value              8735\n",
       "Flag                  2\n",
       "dtype: int64"
      ]
     },
     "execution_count": 9,
     "metadata": {},
     "output_type": "execute_result"
    }
   ],
   "source": [
    "#Checking the number of unique value in each column\n",
    "temp_change.nunique()"
   ]
  },
  {
   "cell_type": "code",
   "execution_count": 10,
   "id": "4dea3e34",
   "metadata": {
    "execution": {
     "iopub.execute_input": "2025-01-09T08:12:21.146108Z",
     "iopub.status.busy": "2025-01-09T08:12:21.145711Z",
     "iopub.status.idle": "2025-01-09T08:12:21.431485Z",
     "shell.execute_reply": "2025-01-09T08:12:21.430530Z",
     "shell.execute_reply.started": "2025-01-09T08:12:21.146081Z"
    },
    "tags": []
   },
   "outputs": [
    {
     "data": {
      "text/plain": [
       "0"
      ]
     },
     "execution_count": 10,
     "metadata": {},
     "output_type": "execute_result"
    }
   ],
   "source": [
    "#Checking for duplicate rows\n",
    "sum(temp_change.duplicated())"
   ]
  },
  {
   "cell_type": "code",
   "execution_count": 11,
   "id": "5b6fe42d",
   "metadata": {
    "execution": {
     "iopub.execute_input": "2025-01-09T08:12:26.704207Z",
     "iopub.status.busy": "2025-01-09T08:12:26.703845Z",
     "iopub.status.idle": "2025-01-09T08:12:26.710673Z",
     "shell.execute_reply": "2025-01-09T08:12:26.709526Z",
     "shell.execute_reply.started": "2025-01-09T08:12:26.704182Z"
    },
    "tags": []
   },
   "outputs": [
    {
     "name": "stdout",
     "output_type": "stream",
     "text": [
      "True: the two columns have the exact same values\n"
     ]
    }
   ],
   "source": [
    "#Asserting if the \"Year Code\" and \"Year\" Columns are the same\n",
    "are_the_two_cols_same = (temp_change['Year Code'] == temp_change['Year']).all()\n",
    "print(f'{are_the_two_cols_same}: the two columns have the exact same values')"
   ]
  },
  {
   "cell_type": "markdown",
   "id": "3548082a",
   "metadata": {},
   "source": [
    "*The `Year Code` column will be dropped*"
   ]
  },
  {
   "cell_type": "markdown",
   "id": "cf81b641",
   "metadata": {},
   "source": [
    "## Handling Missing Data\n",
    "\n",
    "When no data value is recorded for the variable in an observation, it is referred to as missing data or missing values in statistics. It can happen in a number of ways and for a number of reasons, including mistakes made during data collecting, problems with data input, or survey respondents declining to answer specific questions. Since missing data might have a substantial impact on the caliber of research and the reliability of conclusions derived from the data, it is imperative to comprehend and manage it.\n",
    "\n",
    "There are several approaches to handling missing data, primarily categorized into imputation and deletion techniques. The imputation technique has to do with replacing missing values with the column's mean, median, or mode, predictive imputation, and multiple imputation. Imputation is recommended when the missing observation proportion is less than 5%.\n",
    "\n",
    "Click [here](https://www.mastersindatascience.org/learning/how-to-deal-with-missing-data/#:~:text=When%20dealing%20with%20missing%20data,of%20missing%20data%20is%20low.), to know more about dealing with missing data."
   ]
  },
  {
   "cell_type": "code",
   "execution_count": 12,
   "id": "9a37e077",
   "metadata": {
    "execution": {
     "iopub.execute_input": "2025-01-09T08:12:33.683242Z",
     "iopub.status.busy": "2025-01-09T08:12:33.682809Z",
     "iopub.status.idle": "2025-01-09T08:12:33.689156Z",
     "shell.execute_reply": "2025-01-09T08:12:33.688133Z",
     "shell.execute_reply.started": "2025-01-09T08:12:33.683212Z"
    },
    "tags": []
   },
   "outputs": [
    {
     "name": "stdout",
     "output_type": "stream",
     "text": [
      "Missing Percentage: 4.54%\n"
     ]
    }
   ],
   "source": [
    "#Assessing the proportion of missing data in the Value column \n",
    "missing_percent = (563040 - 537452) / 563040 * 100\n",
    "print(f\"Missing Percentage: {missing_percent:.2f}%\")"
   ]
  },
  {
   "cell_type": "markdown",
   "id": "7a42c61c",
   "metadata": {},
   "source": [
    "*This value is less than 5%, hence its safe to populate the missing observations with the mean or median (as the `Value` column is a continuous variable)*"
   ]
  },
  {
   "cell_type": "code",
   "execution_count": 13,
   "id": "cf908088",
   "metadata": {
    "execution": {
     "iopub.execute_input": "2025-01-09T08:12:42.984163Z",
     "iopub.status.busy": "2025-01-09T08:12:42.983781Z",
     "iopub.status.idle": "2025-01-09T08:12:43.612958Z",
     "shell.execute_reply": "2025-01-09T08:12:43.611538Z",
     "shell.execute_reply.started": "2025-01-09T08:12:42.984134Z"
    },
    "tags": []
   },
   "outputs": [
    {
     "data": {
      "image/png": "[encoded data removed]",
      "text/plain": [
       "<Figure size 1100x300 with 2 Axes>"
      ]
     },
     "metadata": {},
     "output_type": "display_data"
    }
   ],
   "source": [
    "#Looking at the distribution of the \"Value\" column\n",
    "temp = temp_change[temp_change['Element'] == \"Temperature change\"]\n",
    "stD = temp_change[temp_change['Element'] == \"Standard Deviation\"]\n",
    "mean_temp = np.mean(temp['Value']) # Calculate temperature mean\n",
    "mean_std = np.mean(stD['Value']) # Calculate standard deviation mean\n",
    "median_temp = temp.Value.median() # Calculate temperature median\n",
    "median_std = stD.Value.median() # Calculate standard deviation median\n",
    "\n",
    "#Plotting the histograms\n",
    "fig, (ax1, ax2) = plt.subplots(1, 2, figsize = (11,3), sharey = True)\n",
    "ax1.hist(temp['Value'], bins=10, color='red', edgecolor='black', alpha=0.7)                  \n",
    "ax2.hist(stD['Value'], bins=10, color='skyblue', edgecolor='black', alpha=0.7) #second plot\n",
    "\n",
    "# Adding mean and median line to the plots\n",
    "ax1.axvline(mean_temp, color='blue', linestyle='dashed', linewidth=1.5, label=f'Mean: {mean_temp:.2f}')\n",
    "ax1.axvline(median_temp, color='black', linestyle='-.', linewidth=1.5, label=f'Median: {median_temp:.2f}')\n",
    "ax2.axvline(mean_std, color='red', linestyle='dashed', linewidth=1.5, label=f'Mean: {mean_std:.2f}')\n",
    "ax2.axvline(median_std, color='black', linestyle='-.', linewidth=1.5, label=f'Median: {median_std:.2f}')\n",
    "\n",
    "\n",
    "ax1.set_xlabel(\"Temperature change value\")\n",
    "ax2.set_xlabel(\"Standard Deviation value\")\n",
    "ax1.set_ylabel(\"Frequency\")\n",
    "ax1.legend()\n",
    "ax2.legend()\n",
    "plt.show()"
   ]
  },
  {
   "cell_type": "markdown",
   "id": "890886df",
   "metadata": {},
   "source": [
    "*For the temperature change, it can be seen that the mean value is close to zero, and the distribution is looking symmetric, suggesting that the data is  normally distributed. Hence, it is safe to use the `mean` to impute missing data as the distribution indicates no outlier. While the standard deviation category is positively (right) skewed, though no outliers is obviously seen. Hence it will be more effective to fill in the missing values with the `median` value as it is less affected by extreme values.*"
   ]
  },
  {
   "cell_type": "code",
   "execution_count": 14,
   "id": "42510217",
   "metadata": {
    "execution": {
     "iopub.execute_input": "2025-01-09T08:12:56.596241Z",
     "iopub.status.busy": "2025-01-09T08:12:56.595850Z",
     "iopub.status.idle": "2025-01-09T08:12:56.627012Z",
     "shell.execute_reply": "2025-01-09T08:12:56.625737Z",
     "shell.execute_reply.started": "2025-01-09T08:12:56.596212Z"
    },
    "tags": []
   },
   "outputs": [
    {
     "name": "stdout",
     "output_type": "stream",
     "text": [
      "Empty DataFrame\n",
      "Columns: [Area Code, Area Code (M49), Area, Months Code, Months, Element Code, Element, Year Code, Year, Unit, Value, Flag]\n",
      "Index: []\n",
      "Empty DataFrame\n",
      "Columns: [Area Code, Area Code (M49), Area, Months Code, Months, Element Code, Element, Year Code, Year, Unit, Value, Flag]\n",
      "Index: []\n"
     ]
    }
   ],
   "source": [
    "#Checking for outliers in the value column quantitatively\n",
    "Q1t = temp.Value.quantile(0.25) #for temperature change category\n",
    "Q3t = temp.Value.quantile(0.75)\n",
    "IQRt = Q3t-Q1t\n",
    "upper_bound = Q3t + (1.5*IQRt)\n",
    "lower_bound = Q1t - (1.5*IQRt)\n",
    "\n",
    "Q1s = stD.Value.quantile(0.25) #for standard deviation category\n",
    "Q3s = stD.Value.quantile(0.75)\n",
    "IQRs = Q3s-Q1s\n",
    "upper_bound2 = Q3s + (1.5*IQRs)\n",
    "lower_bound2 = Q1s - (1.5*IQRs)\n",
    "\n",
    "temp_outliers = temp[(temp['Value'] == lower_bound) | (temp['Value'] == upper_bound)]\n",
    "std_outliers = stD[(stD['Value'] == lower_bound) | (stD['Value'] == upper_bound)]\n",
    "\n",
    "print(temp_outliers)\n",
    "print(std_outliers)"
   ]
  },
  {
   "cell_type": "markdown",
   "id": "ac449a09",
   "metadata": {},
   "source": [
    "*This output shows that the `value` column has no outlier for both the temperature change and standard deviation category, further buttressing the histogram plotted earlier*"
   ]
  },
  {
   "cell_type": "markdown",
   "id": "899a603b",
   "metadata": {},
   "source": [
    "## Data Cleaning"
   ]
  },
  {
   "cell_type": "code",
   "execution_count": 15,
   "id": "cbb2a04a",
   "metadata": {
    "execution": {
     "iopub.execute_input": "2025-01-09T08:13:06.509180Z",
     "iopub.status.busy": "2025-01-09T08:13:06.508759Z",
     "iopub.status.idle": "2025-01-09T08:13:06.540835Z",
     "shell.execute_reply": "2025-01-09T08:13:06.539860Z",
     "shell.execute_reply.started": "2025-01-09T08:13:06.509145Z"
    },
    "tags": []
   },
   "outputs": [],
   "source": [
    "#Create a copy of the dataset\n",
    "temp_change2 = temp_change.copy()"
   ]
  },
  {
   "cell_type": "code",
   "execution_count": 16,
   "id": "ea75f656",
   "metadata": {
    "execution": {
     "iopub.execute_input": "2025-01-09T08:25:07.064050Z",
     "iopub.status.busy": "2025-01-09T08:25:07.063636Z",
     "iopub.status.idle": "2025-01-09T08:25:07.560660Z",
     "shell.execute_reply": "2025-01-09T08:25:07.559831Z",
     "shell.execute_reply.started": "2025-01-09T08:25:07.064021Z"
    },
    "tags": []
   },
   "outputs": [
    {
     "data": {
      "text/html": [
       "<div>\n",
       "<style scoped>\n",
       "    .dataframe tbody tr th:only-of-type {\n",
       "        vertical-align: middle;\n",
       "    }\n",
       "\n",
       "    .dataframe tbody tr th {\n",
       "        vertical-align: top;\n",
       "    }\n",
       "\n",
       "    .dataframe thead th {\n",
       "        text-align: right;\n",
       "    }\n",
       "</style>\n",
       "<table border=\"1\" class=\"dataframe\">\n",
       "  <thead>\n",
       "    <tr style=\"text-align: right;\">\n",
       "      <th>Element</th>\n",
       "      <th>Area Code</th>\n",
       "      <th>Area Code (M49)</th>\n",
       "      <th>Area</th>\n",
       "      <th>Months Code</th>\n",
       "      <th>Months</th>\n",
       "      <th>Year Code</th>\n",
       "      <th>Year</th>\n",
       "      <th>Unit</th>\n",
       "      <th>Flag</th>\n",
       "      <th>Standard Deviation</th>\n",
       "      <th>Temperature change</th>\n",
       "    </tr>\n",
       "  </thead>\n",
       "  <tbody>\n",
       "    <tr>\n",
       "      <th>109987</th>\n",
       "      <td>118</td>\n",
       "      <td>'414</td>\n",
       "      <td>Kuwait</td>\n",
       "      <td>7002</td>\n",
       "      <td>February</td>\n",
       "      <td>1966</td>\n",
       "      <td>1966</td>\n",
       "      <td>°c</td>\n",
       "      <td>E</td>\n",
       "      <td>1.666</td>\n",
       "      <td>1.135</td>\n",
       "    </tr>\n",
       "  </tbody>\n",
       "</table>\n",
       "</div>"
      ],
      "text/plain": [
       "Element  Area Code Area Code (M49)    Area  Months Code    Months  Year Code  \\\n",
       "109987         118            '414  Kuwait         7002  February       1966   \n",
       "\n",
       "Element  Year Unit Flag  Standard Deviation  Temperature change  \n",
       "109987   1966   °c    E               1.666               1.135  "
      ]
     },
     "execution_count": 16,
     "metadata": {},
     "output_type": "execute_result"
    }
   ],
   "source": [
    "#pivoting the element column\n",
    "temp_change2 = temp_change2.pivot(index=['Area Code', 'Area Code (M49)', 'Area', 'Months Code', 'Months', 'Year Code', 'Year', \n",
    "                          'Unit', 'Flag'], columns='Element',  values='Value').reset_index()\n",
    "temp_change2.sample()"
   ]
  },
  {
   "cell_type": "code",
   "execution_count": 17,
   "id": "7b9b13de",
   "metadata": {
    "execution": {
     "iopub.execute_input": "2025-01-09T08:25:09.431754Z",
     "iopub.status.busy": "2025-01-09T08:25:09.431439Z",
     "iopub.status.idle": "2025-01-09T08:25:09.444927Z",
     "shell.execute_reply": "2025-01-09T08:25:09.444112Z",
     "shell.execute_reply.started": "2025-01-09T08:25:09.431732Z"
    },
    "tags": []
   },
   "outputs": [
    {
     "data": {
      "text/html": [
       "<div>\n",
       "<style scoped>\n",
       "    .dataframe tbody tr th:only-of-type {\n",
       "        vertical-align: middle;\n",
       "    }\n",
       "\n",
       "    .dataframe tbody tr th {\n",
       "        vertical-align: top;\n",
       "    }\n",
       "\n",
       "    .dataframe thead th {\n",
       "        text-align: right;\n",
       "    }\n",
       "</style>\n",
       "<table border=\"1\" class=\"dataframe\">\n",
       "  <thead>\n",
       "    <tr style=\"text-align: right;\">\n",
       "      <th>Element</th>\n",
       "      <th>area_code</th>\n",
       "      <th>area_code_(m49)</th>\n",
       "      <th>area</th>\n",
       "      <th>months_code</th>\n",
       "      <th>months</th>\n",
       "      <th>year_code</th>\n",
       "      <th>year</th>\n",
       "      <th>unit</th>\n",
       "      <th>flag</th>\n",
       "      <th>standard_deviation</th>\n",
       "      <th>temperature_change</th>\n",
       "    </tr>\n",
       "  </thead>\n",
       "  <tbody>\n",
       "    <tr>\n",
       "      <th>0</th>\n",
       "      <td>1</td>\n",
       "      <td>'051</td>\n",
       "      <td>Armenia</td>\n",
       "      <td>7001</td>\n",
       "      <td>January</td>\n",
       "      <td>1992</td>\n",
       "      <td>1992</td>\n",
       "      <td>°c</td>\n",
       "      <td>E</td>\n",
       "      <td>2.805</td>\n",
       "      <td>-2.405</td>\n",
       "    </tr>\n",
       "  </tbody>\n",
       "</table>\n",
       "</div>"
      ],
      "text/plain": [
       "Element  area_code area_code_(m49)     area  months_code   months  year_code  \\\n",
       "0                1            '051  Armenia         7001  January       1992   \n",
       "\n",
       "Element  year unit flag  standard_deviation  temperature_change  \n",
       "0        1992   °c    E               2.805              -2.405  "
      ]
     },
     "execution_count": 17,
     "metadata": {},
     "output_type": "execute_result"
    }
   ],
   "source": [
    "#Changing the letter case of variables for easy use\n",
    "temp_change2.rename(columns = lambda x:x.strip().replace(' ', '_').lower(), inplace = True)\n",
    "\n",
    "temp_change2.head(1)"
   ]
  },
  {
   "cell_type": "code",
   "execution_count": 18,
   "id": "78508adb",
   "metadata": {
    "execution": {
     "iopub.execute_input": "2025-01-09T08:25:16.031444Z",
     "iopub.status.busy": "2025-01-09T08:25:16.031127Z",
     "iopub.status.idle": "2025-01-09T08:25:16.057572Z",
     "shell.execute_reply": "2025-01-09T08:25:16.056475Z",
     "shell.execute_reply.started": "2025-01-09T08:25:16.031422Z"
    },
    "tags": []
   },
   "outputs": [],
   "source": [
    "#dropping the year code column\n",
    "temp_change2.drop('year_code', axis = 1, inplace = True)\n"
   ]
  },
  {
   "cell_type": "code",
   "execution_count": 19,
   "id": "d9a4526b",
   "metadata": {
    "execution": {
     "iopub.execute_input": "2025-01-09T08:25:16.989920Z",
     "iopub.status.busy": "2025-01-09T08:25:16.989543Z",
     "iopub.status.idle": "2025-01-09T08:25:17.003599Z",
     "shell.execute_reply": "2025-01-09T08:25:17.002376Z",
     "shell.execute_reply.started": "2025-01-09T08:25:16.989893Z"
    },
    "tags": []
   },
   "outputs": [
    {
     "data": {
      "text/html": [
       "<div>\n",
       "<style scoped>\n",
       "    .dataframe tbody tr th:only-of-type {\n",
       "        vertical-align: middle;\n",
       "    }\n",
       "\n",
       "    .dataframe tbody tr th {\n",
       "        vertical-align: top;\n",
       "    }\n",
       "\n",
       "    .dataframe thead th {\n",
       "        text-align: right;\n",
       "    }\n",
       "</style>\n",
       "<table border=\"1\" class=\"dataframe\">\n",
       "  <thead>\n",
       "    <tr style=\"text-align: right;\">\n",
       "      <th>Element</th>\n",
       "      <th>area_code</th>\n",
       "      <th>area_code_(m49)</th>\n",
       "      <th>area</th>\n",
       "      <th>months_code</th>\n",
       "      <th>months</th>\n",
       "      <th>year</th>\n",
       "      <th>unit</th>\n",
       "      <th>flag</th>\n",
       "      <th>standard_deviation</th>\n",
       "      <th>temperature_change</th>\n",
       "    </tr>\n",
       "  </thead>\n",
       "  <tbody>\n",
       "    <tr>\n",
       "      <th>0</th>\n",
       "      <td>1</td>\n",
       "      <td>'051</td>\n",
       "      <td>Armenia</td>\n",
       "      <td>7001</td>\n",
       "      <td>January</td>\n",
       "      <td>1992</td>\n",
       "      <td>°c</td>\n",
       "      <td>E</td>\n",
       "      <td>2.805</td>\n",
       "      <td>-2.405</td>\n",
       "    </tr>\n",
       "  </tbody>\n",
       "</table>\n",
       "</div>"
      ],
      "text/plain": [
       "Element  area_code area_code_(m49)     area  months_code   months  year unit  \\\n",
       "0                1            '051  Armenia         7001  January  1992   °c   \n",
       "\n",
       "Element flag  standard_deviation  temperature_change  \n",
       "0          E               2.805              -2.405  "
      ]
     },
     "execution_count": 19,
     "metadata": {},
     "output_type": "execute_result"
    }
   ],
   "source": [
    "temp_change2.head(1)"
   ]
  },
  {
   "cell_type": "code",
   "execution_count": 20,
   "id": "163308e0",
   "metadata": {
    "execution": {
     "iopub.execute_input": "2025-01-09T08:25:23.838294Z",
     "iopub.status.busy": "2025-01-09T08:25:23.837895Z",
     "iopub.status.idle": "2025-01-09T08:25:23.919997Z",
     "shell.execute_reply": "2025-01-09T08:25:23.918935Z",
     "shell.execute_reply.started": "2025-01-09T08:25:23.838267Z"
    },
    "tags": []
   },
   "outputs": [
    {
     "data": {
      "text/plain": [
       "Element\n",
       "area_code             0\n",
       "area_code_(m49)       0\n",
       "area                  0\n",
       "months_code           0\n",
       "months                0\n",
       "year                  0\n",
       "unit                  0\n",
       "flag                  0\n",
       "standard_deviation    0\n",
       "temperature_change    0\n",
       "dtype: int64"
      ]
     },
     "execution_count": 20,
     "metadata": {},
     "output_type": "execute_result"
    }
   ],
   "source": [
    "mean_temp = np.mean(temp_change2['temperature_change']) \n",
    "mean_std = np.mean(temp_change2['standard_deviation'])\n",
    "\n",
    "#Filling in the missing values\n",
    "temp_change2.temperature_change.fillna(mean_temp, inplace = True)\n",
    "temp_change2.standard_deviation.fillna(mean_std, inplace = True)\n",
    "\n",
    "#Inspecting\n",
    "temp_change2.isnull().sum()"
   ]
  },
  {
   "cell_type": "code",
   "execution_count": 21,
   "id": "c2df6f2d",
   "metadata": {
    "execution": {
     "iopub.execute_input": "2025-01-09T08:25:41.934148Z",
     "iopub.status.busy": "2025-01-09T08:25:41.933730Z",
     "iopub.status.idle": "2025-01-09T08:25:42.997665Z",
     "shell.execute_reply": "2025-01-09T08:25:42.996563Z",
     "shell.execute_reply.started": "2025-01-09T08:25:41.934115Z"
    },
    "tags": []
   },
   "outputs": [],
   "source": [
    "#saving the new dataset as a CSV file\n",
    "temp_change2.to_csv(\"temperature_change_edited.csv\", index = False)"
   ]
  },
  {
   "cell_type": "markdown",
   "id": "510de776",
   "metadata": {},
   "source": [
    "## Data Visualizations"
   ]
  },
  {
   "cell_type": "markdown",
   "id": "f8642c8a",
   "metadata": {},
   "source": [
    "### Viewing the Dataset"
   ]
  },
  {
   "cell_type": "code",
   "execution_count": 1,
   "id": "b7a5ae7a-208f-4c5e-8fd2-ebb2e5cc9245",
   "metadata": {
    "tags": []
   },
   "outputs": [
    {
     "data": {
      "text/html": [
       "<div>\n",
       "<style scoped>\n",
       "    .dataframe tbody tr th:only-of-type {\n",
       "        vertical-align: middle;\n",
       "    }\n",
       "\n",
       "    .dataframe tbody tr th {\n",
       "        vertical-align: top;\n",
       "    }\n",
       "\n",
       "    .dataframe thead th {\n",
       "        text-align: right;\n",
       "    }\n",
       "</style>\n",
       "<table border=\"1\" class=\"dataframe\">\n",
       "  <thead>\n",
       "    <tr style=\"text-align: right;\">\n",
       "      <th></th>\n",
       "      <th>area_code</th>\n",
       "      <th>area_code_(m49)</th>\n",
       "      <th>area</th>\n",
       "      <th>months_code</th>\n",
       "      <th>months</th>\n",
       "      <th>year</th>\n",
       "      <th>unit</th>\n",
       "      <th>flag</th>\n",
       "      <th>standard_deviation</th>\n",
       "      <th>temperature_change</th>\n",
       "    </tr>\n",
       "  </thead>\n",
       "  <tbody>\n",
       "    <tr>\n",
       "      <th>0</th>\n",
       "      <td>1</td>\n",
       "      <td>'051</td>\n",
       "      <td>Armenia</td>\n",
       "      <td>7001</td>\n",
       "      <td>January</td>\n",
       "      <td>1992-01-01</td>\n",
       "      <td>°c</td>\n",
       "      <td>E</td>\n",
       "      <td>2.805</td>\n",
       "      <td>-2.405</td>\n",
       "    </tr>\n",
       "    <tr>\n",
       "      <th>1</th>\n",
       "      <td>1</td>\n",
       "      <td>'051</td>\n",
       "      <td>Armenia</td>\n",
       "      <td>7001</td>\n",
       "      <td>January</td>\n",
       "      <td>1993-01-01</td>\n",
       "      <td>°c</td>\n",
       "      <td>E</td>\n",
       "      <td>2.805</td>\n",
       "      <td>-1.510</td>\n",
       "    </tr>\n",
       "    <tr>\n",
       "      <th>2</th>\n",
       "      <td>1</td>\n",
       "      <td>'051</td>\n",
       "      <td>Armenia</td>\n",
       "      <td>7001</td>\n",
       "      <td>January</td>\n",
       "      <td>1994-01-01</td>\n",
       "      <td>°c</td>\n",
       "      <td>E</td>\n",
       "      <td>2.805</td>\n",
       "      <td>1.970</td>\n",
       "    </tr>\n",
       "    <tr>\n",
       "      <th>3</th>\n",
       "      <td>1</td>\n",
       "      <td>'051</td>\n",
       "      <td>Armenia</td>\n",
       "      <td>7001</td>\n",
       "      <td>January</td>\n",
       "      <td>1995-01-01</td>\n",
       "      <td>°c</td>\n",
       "      <td>E</td>\n",
       "      <td>2.805</td>\n",
       "      <td>2.202</td>\n",
       "    </tr>\n",
       "    <tr>\n",
       "      <th>4</th>\n",
       "      <td>1</td>\n",
       "      <td>'051</td>\n",
       "      <td>Armenia</td>\n",
       "      <td>7001</td>\n",
       "      <td>January</td>\n",
       "      <td>1996-01-01</td>\n",
       "      <td>°c</td>\n",
       "      <td>E</td>\n",
       "      <td>2.805</td>\n",
       "      <td>0.844</td>\n",
       "    </tr>\n",
       "    <tr>\n",
       "      <th>...</th>\n",
       "      <td>...</td>\n",
       "      <td>...</td>\n",
       "      <td>...</td>\n",
       "      <td>...</td>\n",
       "      <td>...</td>\n",
       "      <td>...</td>\n",
       "      <td>...</td>\n",
       "      <td>...</td>\n",
       "      <td>...</td>\n",
       "      <td>...</td>\n",
       "    </tr>\n",
       "    <tr>\n",
       "      <th>285525</th>\n",
       "      <td>5873</td>\n",
       "      <td>'198</td>\n",
       "      <td>OECD</td>\n",
       "      <td>7020</td>\n",
       "      <td>Meteorological year</td>\n",
       "      <td>2019-01-01</td>\n",
       "      <td>°c</td>\n",
       "      <td>E</td>\n",
       "      <td>0.259</td>\n",
       "      <td>1.291</td>\n",
       "    </tr>\n",
       "    <tr>\n",
       "      <th>285526</th>\n",
       "      <td>5873</td>\n",
       "      <td>'198</td>\n",
       "      <td>OECD</td>\n",
       "      <td>7020</td>\n",
       "      <td>Meteorological year</td>\n",
       "      <td>2020-01-01</td>\n",
       "      <td>°c</td>\n",
       "      <td>E</td>\n",
       "      <td>0.259</td>\n",
       "      <td>1.431</td>\n",
       "    </tr>\n",
       "    <tr>\n",
       "      <th>285527</th>\n",
       "      <td>5873</td>\n",
       "      <td>'198</td>\n",
       "      <td>OECD</td>\n",
       "      <td>7020</td>\n",
       "      <td>Meteorological year</td>\n",
       "      <td>2021-01-01</td>\n",
       "      <td>°c</td>\n",
       "      <td>E</td>\n",
       "      <td>0.259</td>\n",
       "      <td>1.589</td>\n",
       "    </tr>\n",
       "    <tr>\n",
       "      <th>285528</th>\n",
       "      <td>5873</td>\n",
       "      <td>'198</td>\n",
       "      <td>OECD</td>\n",
       "      <td>7020</td>\n",
       "      <td>Meteorological year</td>\n",
       "      <td>2022-01-01</td>\n",
       "      <td>°c</td>\n",
       "      <td>E</td>\n",
       "      <td>0.259</td>\n",
       "      <td>1.237</td>\n",
       "    </tr>\n",
       "    <tr>\n",
       "      <th>285529</th>\n",
       "      <td>5873</td>\n",
       "      <td>'198</td>\n",
       "      <td>OECD</td>\n",
       "      <td>7020</td>\n",
       "      <td>Meteorological year</td>\n",
       "      <td>2023-01-01</td>\n",
       "      <td>°c</td>\n",
       "      <td>E</td>\n",
       "      <td>0.259</td>\n",
       "      <td>1.706</td>\n",
       "    </tr>\n",
       "  </tbody>\n",
       "</table>\n",
       "<p>285530 rows × 10 columns</p>\n",
       "</div>"
      ],
      "text/plain": [
       "        area_code area_code_(m49)     area  months_code               months  \\\n",
       "0               1            '051  Armenia         7001              January   \n",
       "1               1            '051  Armenia         7001              January   \n",
       "2               1            '051  Armenia         7001              January   \n",
       "3               1            '051  Armenia         7001              January   \n",
       "4               1            '051  Armenia         7001              January   \n",
       "...           ...             ...      ...          ...                  ...   \n",
       "285525       5873            '198     OECD         7020  Meteorological year   \n",
       "285526       5873            '198     OECD         7020  Meteorological year   \n",
       "285527       5873            '198     OECD         7020  Meteorological year   \n",
       "285528       5873            '198     OECD         7020  Meteorological year   \n",
       "285529       5873            '198     OECD         7020  Meteorological year   \n",
       "\n",
       "             year unit flag  standard_deviation  temperature_change  \n",
       "0      1992-01-01   °c    E               2.805              -2.405  \n",
       "1      1993-01-01   °c    E               2.805              -1.510  \n",
       "2      1994-01-01   °c    E               2.805               1.970  \n",
       "3      1995-01-01   °c    E               2.805               2.202  \n",
       "4      1996-01-01   °c    E               2.805               0.844  \n",
       "...           ...  ...  ...                 ...                 ...  \n",
       "285525 2019-01-01   °c    E               0.259               1.291  \n",
       "285526 2020-01-01   °c    E               0.259               1.431  \n",
       "285527 2021-01-01   °c    E               0.259               1.589  \n",
       "285528 2022-01-01   °c    E               0.259               1.237  \n",
       "285529 2023-01-01   °c    E               0.259               1.706  \n",
       "\n",
       "[285530 rows x 10 columns]"
      ]
     },
     "execution_count": 1,
     "metadata": {},
     "output_type": "execute_result"
    }
   ],
   "source": [
    "#Importing the necessary libraries\n",
    "import pandas as pd\n",
    "import numpy as np \n",
    "import matplotlib.pyplot as plt\n",
    "import seaborn as sb\n",
    "%matplotlib inline\n",
    "\n",
    "\n",
    "#loading in the saved dataset for further analysis\n",
    "temp_df = pd.read_csv(\"temperature_change_edited.csv\", \n",
    "                      parse_dates = ['year']) #set the date column as date\n",
    "\n",
    "temp_df"
   ]
  },
  {
   "cell_type": "markdown",
   "id": "3ad67a63-73e4-4814-8f93-60ef9ccc9ce6",
   "metadata": {},
   "source": [
    "### 1. How has the average temperature change evolved over the decades for Nigeria? "
   ]
  },
  {
   "cell_type": "code",
   "execution_count": 3,
   "id": "121fdd4b",
   "metadata": {
    "tags": []
   },
   "outputs": [
    {
     "data": {
      "application/vnd.jupyter.widget-view+json": {
       "model_id": "",
       "version_major": 2,
       "version_minor": 0
      },
      "text/plain": [
       "interactive(children=(Dropdown(description='Country/Region', index=147, options=('Armenia', 'Afghanistan', 'Al…"
      ]
     },
     "metadata": {},
     "output_type": "display_data"
    }
   ],
   "source": [
    "from ipywidgets import widgets, interact\n",
    "\n",
    "#summarizing the temperature value by decades\n",
    "temp_df['decade'] = (temp_df['year'].dt.year // 10) * 10  #Extracting decades\n",
    "sum_temp_df = temp_df.groupby(['area', 'decade'])['temperature_change'].agg([np.mean, np.std]).reset_index()\n",
    "\n",
    "#Dropdown filtering function\n",
    "def plot_area(selected_area):\n",
    "    filtered_df = sum_temp_df[sum_temp_df['area'] == selected_area]\n",
    "  \n",
    "    #Extract x and y values for the annotation\n",
    "    annotation_data = filtered_df[filtered_df['mean'] > 1]\n",
    "    if not annotation_data.empty:\n",
    "        xaxis = annotation_data['decade'].values[0]\n",
    "        yaxis = annotation_data['mean'].values[0]\n",
    "    else:\n",
    "        xaxis, yaxis = None, None  #Fallback if no matching data is found\n",
    "    \n",
    "    #Plotting summarized data\n",
    "    plt.style.use('ggplot')\n",
    "    fig, ax = plt.subplots(figsize=(10, 6))\n",
    "    \n",
    "    ax = sb.lineplot(data = filtered_df, x = 'decade', y = 'mean', marker = 'o', \n",
    "                     linestyle = None,  color = 'r', label = \"Avg Temp\")\n",
    "    ax.set_ylabel(\"Temperature change (°C)\", fontsize = 12, fontweight = \"bold\")\n",
    "    ax.set_title(f\"Average Land Temperature Change in {selected_area} per Decade (1961-2023)\", \n",
    "                 fontsize = 14, fontweight = \"bold\")\n",
    "    ax.set_xlabel(\"Decades\", fontsize = 12, fontweight = \"bold\")\n",
    "    \n",
    "    # Add annotation if data is found\n",
    "    if xaxis is not None and yaxis is not None:\n",
    "        ax.annotate(\">1 degree\", xy = (xaxis, yaxis), xytext = (xaxis - 5, yaxis - 0.8), \n",
    "            arrowprops = {\"arrowstyle\": \"->\", \"color\": \"gray\"})\n",
    "    plt.legend()\n",
    "    plt.show()\n",
    "\n",
    "# Dropdown widget\n",
    "area_dropdown = widgets.Dropdown(\n",
    "    options = temp_df.area.unique(),\n",
    "    value = 'Nigeria',\n",
    "    description = 'Country/Region')\n",
    "\n",
    "# Interacting function\n",
    "interact(plot_area, selected_area = area_dropdown);"
   ]
  },
  {
   "cell_type": "markdown",
   "id": "83de67e0",
   "metadata": {},
   "source": [
    "*There was an increasing trend in the temperature change for Nigeria over the decades (1960-2020). Also, although the temperature change surpassed 1&deg;C in 2010, it never got to 1.5&deg;C.*\n",
    "\n",
    "*This increment in temperature over time indicates global warming or regional climate change, potentially linked to anthropogenic activities such as deforestation, urbanization, or greenhouse gas emissions. This may also explain the current [biodiversity loss](https://www.thecable.ng/biodiversity-in-nigeria-challenges-and-opportunities/) in the area (Nigeria). The WWF also recorded that Nigeria lost 1 million hectares of forest land between 2000 and 2015 due to logging, mining activities, infrastructure projects such as roads and dams, and land clearing for agriculture such as cocoa cultivation. Such activities can lead to both carbon sink and biodiversity loss.*"
   ]
  },
  {
   "cell_type": "markdown",
   "id": "820f06cd",
   "metadata": {},
   "source": [
    "### 2. Are there discernible trends in the Global standard deviation of temperature changes over the years?"
   ]
  },
  {
   "cell_type": "code",
   "execution_count": 2,
   "id": "b94bd0e4-c0d9-426c-bca1-0d91f2ac69f6",
   "metadata": {
    "tags": []
   },
   "outputs": [],
   "source": [
    "import warnings\n",
    "warnings.filterwarnings('ignore', category=FutureWarning) #to reduce noise"
   ]
  },
  {
   "cell_type": "code",
   "execution_count": 4,
   "id": "d14ec44f",
   "metadata": {
    "tags": []
   },
   "outputs": [],
   "source": [
    "#list of areas that are not countries (aggregates)\n",
    "not_a_country = ['World', 'Africa',\n",
    "       'Eastern Africa', 'Middle Africa', 'Northern Africa',\n",
    "       'Southern Africa', 'Western Africa', 'Americas',\n",
    "       'Northern America', 'Central America', 'Caribbean',\n",
    "       'South America', 'Asia', 'Central Asia', 'Eastern Asia',\n",
    "       'Southern Asia', 'South-eastern Asia', 'Western Asia', 'Europe',\n",
    "       'Eastern Europe', 'Northern Europe', 'Southern Europe',\n",
    "       'Western Europe', 'Oceania', 'Australia and New Zealand',\n",
    "       'Melanesia', 'Micronesia', 'Polynesia', 'European Union (27)',\n",
    "       'Least Developed Countries', 'Land Locked Developing Countries',\n",
    "       'Small Island Developing States',\n",
    "       'Low Income Food Deficit Countries',\n",
    "       'Net Food Importing Developing Countries', 'Annex I countries',\n",
    "       'Non-Annex I countries', 'OECD']"
   ]
  },
  {
   "cell_type": "code",
   "execution_count": 5,
   "id": "0cf6c66c",
   "metadata": {
    "tags": []
   },
   "outputs": [
    {
     "data": {
      "image/png": "[encoded data removed]",
      "text/plain": [
       "<Figure size 1000x500 with 1 Axes>"
      ]
     },
     "metadata": {},
     "output_type": "display_data"
    }
   ],
   "source": [
    "import mplcursors\n",
    "\n",
    "countries = temp_df[~(temp_df['area'].isin(not_a_country))] #filtering by countries only\n",
    "sum_SD_df = countries.groupby('decade')['standard_deviation'].agg([np.mean, np.std]).reset_index()\n",
    "\n",
    "#plotting the chart\n",
    "fig, ax = plt.subplots(figsize = [10, 5])\n",
    "plt.style.use('Solarize_Light2')\n",
    "ax.plot(sum_SD_df['decade'], sum_SD_df['mean'], marker = 'v', color = 'b', label = \"Avg SD\")\n",
    "ax.plot(sum_SD_df['decade'], sum_SD_df['std'], marker = 'o', linestyle = '--',  color = 'r', label = \"SD\")\n",
    "ax.set_title(\"Global Average Temperature Standard Deviation per Decade (1961-2023)\", \n",
    "            fontsize = 14, fontweight = 'bold')\n",
    "ax.set_ylabel(\"Temperature change °C (SD)\", fontsize = 12, fontweight = 'bold')\n",
    "ax.set_xlabel(\"Decades\", fontsize = 12, fontweight = 'bold')\n",
    "ax.legend()\n",
    "\n",
    "#Adding cursor functionality\n",
    "cursor = mplcursors.cursor(ax.lines, hover=True)\n",
    "cursor.connect(\"add\", lambda sel: sel.annotation.set_text( f\"Decade: {sel.target[0]:.0f}\\nValue: {sel.target[1]:.4f}\"))\n",
    "\n",
    "plt.show()"
   ]
  },
  {
   "cell_type": "markdown",
   "id": "54dbe7e9",
   "metadata": {},
   "source": [
    "*The Standard Deviation (SD) of temperature change recorded for each year in each area was collected and the average SD per decade for countries in the `area` column was computed and plotted on the line pot above.*\n",
    "\n",
    "*From 1960 to 1980, the average standard deviation fluctuates slightly but remains relatively stable around 0.687 and its SD was also relatively stable at 0.467. This indicates a relatively consistent level of variability in temperature changes and its standard deviation during these decades. A sharp increase begins in 1990 (0.741496) and continues through 2020 (0.765850). This trend suggests a growing variability in temperature changes over time. The SD values rise from 0.528540 in 1990 to 0.547976 in 2020 suggesting that the temperature variability itself is becoming less consistent across the countries. It can also be seen that the increase in variability is more pronounced in the 21st century, with values rising steadily from 0.759570 in 2000 to 0.765850 in 2020. After 1990, the average SD and its SD both increased simultaneously, indicating that patterns of global temperature are becoming more complex.*\n",
    "\n",
    "*The increasing standard deviation indicates rising disparities in temperature changes globally and [post-1990](https://www.researchgate.net/publication/289678817_Evaluating_global_warming_A_post-1990s_perspective) trend coincides with accelerated global warming, industrialization, and greenhouse gas emissions, which are likely contributors to greater variability. Although the [1990s](https://www.researchgate.net/figure/The-1990s-was-the-warmest-decade-ever-recorded-instrumentally-The-last-100-years-were_fig3_253251122) recorded one of the warmest period, a [research](https://www.theguardian.com/environment/2010/jan/29/water-vapour-climate-change#:~:text=The%20research%2C%20led%20by%20one,human%20emissions%20of%20greenhouse%20gases.), headed by one of the world's leading climate scientists indicates that, rather than human greenhouse gas emissions, a rise in water vapor in the upper atmosphere was responsible for over one-third of the global warming observed in the 1990s.*"
   ]
  },
  {
   "cell_type": "markdown",
   "id": "0f5647c7",
   "metadata": {},
   "source": [
    "### 3. Are there recurring patterns in temperature changes across months within a year?"
   ]
  },
  {
   "cell_type": "code",
   "execution_count": 6,
   "id": "e94a0117",
   "metadata": {
    "tags": []
   },
   "outputs": [
    {
     "data": {
      "image/png": "[encoded data removed]",
      "text/plain": [
       "<Figure size 1000x600 with 2 Axes>"
      ]
     },
     "metadata": {},
     "output_type": "display_data"
    }
   ],
   "source": [
    "from matplotlib.widgets import Slider\n",
    "\n",
    "countries = temp_df[~(temp_df['area'].isin(not_a_country))]\n",
    "monthly_temp = countries[~(countries['months'].isin(['Dec–Jan–Feb', 'Mar–Apr–May', 'Jun–Jul–Aug', 'Sep–Oct–Nov',\n",
    "       'Meteorological year']))]\n",
    "monthly_temp.loc[:, 'year'] = monthly_temp['year'].dt.year\n",
    "sum_month_temp = monthly_temp.groupby(['year', 'months'])['temperature_change'].mean().reset_index()\n",
    "\n",
    "# Define the chronological order of months\n",
    "month_order = [\"January\", \"February\", \"March\", \"April\", \"May\", \"June\",\n",
    "    \"July\", \"August\", \"September\", \"October\", \"November\", \"December\"]\n",
    "\n",
    "# Convert the 'Month' column to a categorical type with ordered months\n",
    "sum_month_temp['months'] = pd.Categorical(sum_month_temp['months'], categories=month_order, ordered=True)\n",
    "sum_month_temp = sum_month_temp.sort_values(by = [\"year\", \"months\"], ascending = [True, True])\n",
    "\n",
    "#Prepare unique years and months\n",
    "years = sum_month_temp['year'].unique()\n",
    "months = sum_month_temp['months'].unique()\n",
    "\n",
    "#Function to get data for a specific year\n",
    "def get_year_data(year):\n",
    "    year_data = sum_month_temp[sum_month_temp[\"year\"] == year]\n",
    "    return year_data[\"months\"].astype(str), year_data[\"temperature_change\"]\n",
    "\n",
    "#first year data (initial data)\n",
    "first_year = years[0]\n",
    "x, y = get_year_data(first_year)\n",
    "\n",
    "#Creating the plot\n",
    "plt.style.use('ggplot')\n",
    "fig, ax = plt.subplots(figsize=(10, 6))\n",
    "plt.subplots_adjust(bottom=0.25)  # Make space for the slider\n",
    "\n",
    "line, = ax.plot(x, y, marker='o', label=f\"Year: {first_year}\")\n",
    "ax.set_title(f\"Global Monthly Temperature Change for {first_year}\", fontsize=14, fontweight=\"bold\")\n",
    "ax.set_xlabel(\"Month\", fontsize=12, fontweight=\"bold\")\n",
    "ax.set_ylabel(\"Temperature Change (°C)\", fontsize=12, fontweight=\"bold\")\n",
    "labels = monthly_temp.months.unique()\n",
    "ax.tick_params(\"x\", rotation=15)\n",
    "ax.legend()\n",
    "\n",
    "# Add a Slider widget\n",
    "slider_ax = plt.axes([0.2, 0.1, 0.65, 0.03])  # Position: [left, bottom, width, height]\n",
    "slider = Slider(slider_ax, \"year\", years.min(), years.max(), valinit=first_year, valstep=1)\n",
    "\n",
    "# Update function for slider\n",
    "def update(val):\n",
    "    selected_year = int(slider.val)\n",
    "    x, y = get_year_data(selected_year)  # Get data for the selected year\n",
    "    line.set_data(x, y)  # Update line data\n",
    "    ax.set_title(f\"Global Monthly Temperature Change for {selected_year}\", fontsize=14, fontweight=\"bold\") #Update title\n",
    "    line.set_label(f\"Year: {selected_year}\")  # Update legend\n",
    "    ax.legend()\n",
    "    ax.relim()  # Recalculate limits\n",
    "    ax.autoscale_view()\n",
    "    fig.canvas.draw_idle()  # Redraw the canvas\n",
    "\n",
    "slider.on_changed(update)\n",
    "\n",
    "plt.show();\n"
   ]
  },
  {
   "cell_type": "markdown",
   "id": "af56d773-6c36-41bb-9d46-6057a4147be9",
   "metadata": {},
   "source": [
    "_For the first year (1961) of measurement, the highest land temperature change was recorded in April (Spring), and this change was not up to 0.5°C. The early-winter period (december) also recorded the lowest temperature change value, though it picked up the next year (1962) in January and significantly dropped again in February. The value of the temperature change began to decrease and stayed comparatively low and steady for subsequent years until 1966 and 1969 where the temperature change got back to nearly 0.6°C and 0.5°C respectively like the base line year._\n",
    "\n",
    "_In 1970, the first [World Earth Day](https://en.wikipedia.org/wiki/Earth_Day) was celebrated, the peak temperature change at the time was not up to 0.4°C, and the least temperature recorded in early-winter (December) was just a little below -0.1°C. Five years after that, the temperature change across the year (1975) was quite low. The highest value was recorded in January (around 0.25°C), with December recording a temperature change of nearly -0.4°C, this may be as a result of early changes in awareness and initial policy shifts. Investigating further, five years later, it can be seen that the temperature change has increased since 1975, with the peak temperature change value (close to 0.35°C) recorded in late-winter (February), and December having a value very close to but not equal to -0.1°C._\n",
    "\n",
    "_1988 recorded the **highest** (close to **0.85°C**) temperature change value since the baseline year in mid-winter (January). The year also birthed the formation of [The Intergovernmental Panel on Climate Change (IPCC)](https://www.ipcc.ch/about/history/#:~:text=The%20Intergovernmental%20Panel%20on%20Climate%20Change%20(IPCC)%20was%20established%20by,UN%20General%20Assembly%20in%201988.) with the primary aim of providing policymakers, governments, and the public with regular assessments of the scientific basis of climate change, its impacts, and potential adaptation and mitigation strategies. In 1992, four years later—after the [Rio Earth Summit](https://guides.loc.gov/brazil-us-relations/rio-earth-summit-1992#:~:text=The%20first%20United%20Nations%20Conference,and%20protection%20from%20hazardous%20waste.), the peak temperature change value (around 0.4°C) recorded in summer (August) was much lower than that of 1988, and the least temperature for the year was in mid-autumn (October) (0°C<x<-0.1°C). To understand better the long-term perspective of land temperature change based on the IPCC's influence over the years, looking at the start of the 21st century (2000), the least temperature change (almost 0.5°C) recorded in mid-winter (January) was higher than the peak value in 1992, and its peak (a little above 1.1°C) was seen in spring (April). This could be as result of the indirect effect of the [political challenges](https://as.nyu.edu/content/dam/nyu-as/environment/documents/faculty-profiles/Dale_Jamieson-article.pdf?utm_source=chatgpt.com) faced by IPCC, like the political disputes such as those during the [Kyoto Protocol](https://en.wikipedia.org/wiki/Kyoto_Protocol) negotiations (1997), that delayed meaningful international action on implementation of effective climate policies. The increase in temperature change can also be attributed to the expansion of industrial activities by rapidly developing economies, which led to an increase in [greenhouse gas emissions](https://en.wikipedia.org/wiki/Greenhouse_gas_emissions)\n",
    ", especially CO2. The Kyoto Protocol came into force in 2005, yet the peak land temperature change values never went below 1.0°C. Five years later (in 2010), the temperature change value hit a new high of almost 1.4°C in early spring (March)._\n",
    "\n",
    "_In 2015, the least temperature recorded was in mid-spring (April), while the peak temperature change (**1.60°C**) was seen in Early winter (December). This is the **highest** since 1988. Such reading may also be one of the contributing factor to the [Paris Climate Agreement](https://www.un.org/en/global-issues/climate-change#:~:text=At%20the%2021st%20Conference%20of,have%20ratified%20the%20Paris%20Agreement.) with an overarching goal to enhance sustainable development, reduce global warming, and increase resilience to the effects of climate change. Continuing to the next year (2016), the temperature dropped in mid-winter (January) and rose again in late-winter to about 1.85°C. Subsequent years (2017 & 2018) revealed that the peak temperature change remained relatively stable around 1.5°C during the spring period, then continued to rise from 2019, with 2020 and 2023 recording peak temperatures of **1.93°C** and **2.0°C** in late-winter and early-autumn respectively. These were the highest land temperature change recorded since 1961._"
   ]
  },
  {
   "cell_type": "markdown",
   "id": "d7e097d5",
   "metadata": {},
   "source": [
    "### 4. How does the global temperature change from the first decade of the dataset compare to the last decade?"
   ]
  },
  {
   "cell_type": "code",
   "execution_count": 7,
   "id": "a87317c5",
   "metadata": {
    "tags": []
   },
   "outputs": [
    {
     "name": "stdout",
     "output_type": "stream",
     "text": [
      "The difference in the temperature change of the first decade in comparison to the last decade is \u001b[1m1.40 °C\u001b[0m\n"
     ]
    },
    {
     "data": {
      "image/png": "[encoded data removed]",
      "text/plain": [
       "<Figure size 800x500 with 1 Axes>"
      ]
     },
     "metadata": {},
     "output_type": "display_data"
    }
   ],
   "source": [
    "#Don't forget to filter by countries only\n",
    "countries = temp_df[~(temp_df['area'].isin(not_a_country))]\n",
    "first_decade = countries.groupby('decade')['temperature_change'].mean().values[0]\n",
    "last_decade = countries.groupby('decade')['temperature_change'].mean().values[-1]\n",
    "difference = last_decade - first_decade\n",
    "print(f\"The difference in the temperature change of the first decade in comparison to the last decade is \\033[1m{difference:0.2f} °C\\033[0m\")\n",
    "\n",
    "#create the plot\n",
    "ind = np.arange(2)\n",
    "labels = [\"1960\", \"2020\"]\n",
    "fig, ax = plt.subplots(figsize = [8, 5])\n",
    "ax.bar(ind, [first_decade, last_decade])\n",
    "ax.set_title(\"Global Land Temperature Change of the First and Last Decade\", fontsize = 14, fontweight = 'bold')\n",
    "ax.set_xlabel(\"Decade\", fontsize = 12)\n",
    "ax.set_ylabel(\"Temperature change °C\", fontsize = 12)\n",
    "ax.set_xticks(ind)\n",
    "ax.set_xticklabels(labels);"
   ]
  },
  {
   "cell_type": "markdown",
   "id": "7ed2af74",
   "metadata": {},
   "source": [
    "*These difference of **1.40°C** between the first and last decade suggests a rapidly significant warming trend, possibly due to [climate change](https://www.un.org/en/climatechange/what-is-climate-change) or other environmental factors.*\n",
    "\n",
    "*The Intergovernmental Panel on Climate Change (IPCC) emphasizes that a [1.5°C global increase](https://www.ipcc.ch/sr15/) over pre-industrial levels is linked to serious threats to ecosystems and human systems, making a 1.40°C increase extremely significant.\n",
    "A sixty-year increase of 1.40°C signifies a substantial and concerning long-term warming trend that is greater than historical natural variability.*"
   ]
  },
  {
   "cell_type": "markdown",
   "id": "364e3abb",
   "metadata": {},
   "source": [
    "### 5. Are there any years with extreme temperature changes compared to the long-term average?"
   ]
  },
  {
   "cell_type": "markdown",
   "id": "01b62646",
   "metadata": {},
   "source": [
    "Using the [2-SD rule or 95th percentile rule](https://calculator.academy/2-standard-deviation-rule-calculator/), any value that goes above or below the lower and upper threshold respectively (for the 2-SD), or the 95th and 5th percentile will be considered extreme or unusual."
   ]
  },
  {
   "cell_type": "code",
   "execution_count": 8,
   "id": "0a9ea55f",
   "metadata": {
    "tags": []
   },
   "outputs": [
    {
     "name": "stdout",
     "output_type": "stream",
     "text": [
      "\u001b[1mNo year recorded an unusual or extreme temperature change value\u001b[0m\n"
     ]
    }
   ],
   "source": [
    "#Filtering by countries only\n",
    "countries = temp_df[~(temp_df['area'].isin(not_a_country))]\n",
    "yearly_temp = countries.groupby('year')['temperature_change'].mean().reset_index()\n",
    "avg_temp_change, std = countries['temperature_change'].agg([np.mean, np.std])\n",
    "\n",
    "#get the 95th and 5th percentile\n",
    "percentile_95 = np.quantile(countries['temperature_change'], 0.95) \n",
    "percentile_5 = np.quantile(countries['temperature_change'], 0.05) \n",
    "\n",
    "#get the upper and lower threshold for the 2-SD rule\n",
    "upper_threshold = avg_temp_change + (2*std)\n",
    "lower_threshold = avg_temp_change - (2*std)\n",
    "\n",
    "extreme_temp1 = yearly_temp.query(f'temperature_change > {percentile_95} | temperature_change < {percentile_5}')\n",
    "extreme_temp2 = yearly_temp.query(f'temperature_change > {upper_threshold} | temperature_change < {lower_threshold}')\n",
    "\n",
    "if not extreme_temp1.empty and extreme_temp2.empty:\n",
    "    print(extreme_temp1)\n",
    "    print(extreme_temp2)\n",
    "else:\n",
    "    print(\"\\033[1mNo year recorded an unusual or extreme temperature change value\\033[0m\")"
   ]
  },
  {
   "cell_type": "markdown",
   "id": "becdc9d6-df5a-4a1e-9311-169af41b9fac",
   "metadata": {},
   "source": [
    "### 6. What is the rate of temperature change per year for each area?"
   ]
  },
  {
   "cell_type": "code",
   "execution_count": 9,
   "id": "bd0ac208-26fc-4cc3-8824-8e3fe63b80ab",
   "metadata": {
    "tags": []
   },
   "outputs": [
    {
     "data": {
      "application/vnd.jupyter.widget-view+json": {
       "model_id": "ce42d4ba7f0942199f815ce8f13d6e9b",
       "version_major": 2,
       "version_minor": 0
      },
      "text/plain": [
       "interactive(children=(Dropdown(description='Country/Region', options=('Afghanistan', 'Africa', 'Albania', 'Alg…"
      ]
     },
     "metadata": {},
     "output_type": "display_data"
    }
   ],
   "source": [
    "#summarize the temp_df by area and year\n",
    "summary_df = temp_df.groupby(['area', 'year'])['temperature_change'].mean().reset_index()\n",
    "\n",
    "def area_plot(selected_area):\n",
    "    filtered_df = summary_df[summary_df['area'] == selected_area]\n",
    "    \n",
    "    #Calculating the linear trend line\n",
    "    year = filtered_df['year']\n",
    "    year_int = filtered_df['year'].dt.year.astype('int64')\n",
    "    temp_change = filtered_df['temperature_change']\n",
    "    slope, intercept = np.polyfit(year_int, temp_change, 1)\n",
    "    poly = np.poly1d([slope, intercept]) #Create a polynomial from the slope and intercept\n",
    "    \n",
    "    #plot the linechart with trend line\n",
    "    plt.style.use('bmh')\n",
    "    fig, ax = plt.subplots(figsize = [10,6])\n",
    "    ax.plot(year, temp_change, label='Temperature Change')\n",
    "    ax.plot(year, poly(year_int), label='Linear Trend', linestyle='--') #plot the linear trend line\n",
    "    ax.set_ylabel(\"Temperature Change (°C)\", fontsize=12)\n",
    "    ax.set_title(f\"Land Temperature Change Rate in {selected_area} per year (1961-2023)\", fontsize=14)\n",
    "    ax.set_xlabel(\"Years\", fontsize = 12)\n",
    "    \n",
    "    # Add annotations with slope and intercept\n",
    "    ax.annotate(f'Slope: {slope:.2f}°C/year', xy=(0.3, 0.95), xycoords='axes fraction')\n",
    "    ax.annotate(f'Intercept: {intercept:.2f} °C', xy=(0.3, 0.9), xycoords='axes fraction')\n",
    "    ax.legend()\n",
    "    plt.show()\n",
    "\n",
    "#Dropdown widget\n",
    "area_dropdown = widgets.Dropdown(\n",
    "    options = summary_df.area.unique(),\n",
    "    value = 'Afghanistan',\n",
    "    description = 'Country/Region')\n",
    "\n",
    "interact(area_plot, selected_area = area_dropdown);"
   ]
  },
  {
   "cell_type": "markdown",
   "id": "ae8d44a5-54f4-400b-aef3-d8506f1340b7",
   "metadata": {},
   "source": [
    "*Most areas recorded a positive slope, indicating that for every year that passes, there is an increment in land temperature change.*"
   ]
  },
  {
   "cell_type": "markdown",
   "id": "57524b06-1c3b-422a-bca9-5855bb8c0ecc",
   "metadata": {},
   "source": [
    "## Limitation(s)\n",
    "- The country/region that makes up the global analysis, do not have every single area of the world in it."
   ]
  },
  {
   "cell_type": "markdown",
   "id": "6727ad57-8745-42ef-9098-5f8661b1de22",
   "metadata": {},
   "source": [
    "## Conclusion"
   ]
  },
  {
   "cell_type": "markdown",
   "id": "c1aa98af-a377-4d61-81f0-9bfa0e3fdf5a",
   "metadata": {},
   "source": [
    "According to the analysis, there has been a notable and alarming warming trend in Nigeria and around the world over the past 60 years, with an average increase in land temperature change of 1.40°C. This trend is consistent with the effects of regional and global climate change, which are influenced by human activities like urbanization, deforestation, and greenhouse gas emissions. \n",
    "\n",
    "The variability in temperature change, as shown by rising standard deviation, has also increased, especially after 1990, reflecting accelerated industrialization and policy delays such as those during the Kyoto Protocol negotiations. Although global initiatives like the 1988 establishment of the IPCC and the 2015 Paris Climate Agreement have attempted to lessen these impacts, the data emphasizes the enduring difficulties and the pressing need for more robust climate action. Rising global temperature differences and their dire ecological effects highlight the urgent need for concerted, long-term measures to mitigate climate change and improve environmental resilience."
   ]
  },
  {
   "cell_type": "code",
   "execution_count": 12,
   "id": "bcf08b49",
   "metadata": {},
   "outputs": [
    {
     "data": {
      "text/html": [
       "\n",
       "<script>\n",
       "code_show = true; \n",
       "function code_toggle() {\n",
       "    if (code_show){\n",
       "        $('div.input').hide();\n",
       "    } else {\n",
       "        $('div.input').show();\n",
       "    }\n",
       "    code_show = !code_show\n",
       "} \n",
       "$( document ).ready(code_toggle);\n",
       "</script>\n",
       "<form action=\"javascript:code_toggle()\"><input type=\"submit\" value=\"Toggle code\"></form>\n"
      ],
      "text/plain": [
       "<IPython.core.display.HTML object>"
      ]
     },
     "execution_count": 12,
     "metadata": {},
     "output_type": "execute_result"
    }
   ],
   "source": [
    "from IPython.display import HTML\n",
    "\n",
    "HTML('''\n",
    "<script>\n",
    "code_show = true; \n",
    "function code_toggle() {\n",
    "    if (code_show){\n",
    "        $('div.input').hide();\n",
    "    } else {\n",
    "        $('div.input').show();\n",
    "    }\n",
    "    code_show = !code_show\n",
    "} \n",
    "$( document ).ready(code_toggle);\n",
    "</script>\n",
    "<form action=\"javascript:code_toggle()\"><input type=\"submit\" value=\"Toggle code\"></form>\n",
    "''')"
   ]
  },
  {
   "cell_type": "code",
   "execution_count": null,
   "id": "80974899",
   "metadata": {},
   "outputs": [],
   "source": []
  }
 ],
 "metadata": {
  "kaggle": {
   "accelerator": "none",
   "dataSources": [
    {
     "datasetId": 6444572,
     "sourceId": 10400886,
     "sourceType": "datasetVersion"
    }
   ],
   "dockerImageVersionId": 30822,
   "isGpuEnabled": false,
   "isInternetEnabled": true,
   "language": "python",
   "sourceType": "notebook"
  },
  "kernelspec": {
   "display_name": "Python 3 (ipykernel)",
   "language": "python",
   "name": "python3"
  },
  "language_info": {
   "codemirror_mode": {
    "name": "ipython",
    "version": 3
   },
   "file_extension": ".py",
   "mimetype": "text/x-python",
   "name": "python",
   "nbconvert_exporter": "python",
   "pygments_lexer": "ipython3",
   "version": "3.11.5"
  }
 },
 "nbformat": 4,
 "nbformat_minor": 5
}
